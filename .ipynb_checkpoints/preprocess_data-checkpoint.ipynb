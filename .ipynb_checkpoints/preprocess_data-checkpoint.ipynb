{
 "cells": [
  {
   "cell_type": "markdown",
   "metadata": {},
   "source": [
    "# preprocess data\n"
   ]
  },
  {
   "cell_type": "code",
   "execution_count": 1,
   "metadata": {
    "collapsed": false
   },
   "outputs": [
    {
     "name": "stdout",
     "output_type": "stream",
     "text": [
      "<class 'pandas.core.frame.DataFrame'>\n",
      "RangeIndex: 891 entries, 0 to 890\n",
      "Data columns (total 12 columns):\n",
      "PassengerId    891 non-null int64\n",
      "Survived       891 non-null int64\n",
      "Pclass         891 non-null int64\n",
      "Name           891 non-null object\n",
      "Sex            891 non-null object\n",
      "Age            714 non-null float64\n",
      "SibSp          891 non-null int64\n",
      "Parch          891 non-null int64\n",
      "Ticket         891 non-null object\n",
      "Fare           891 non-null float64\n",
      "Cabin          204 non-null object\n",
      "Embarked       889 non-null object\n",
      "dtypes: float64(2), int64(5), object(5)\n",
      "memory usage: 83.6+ KB\n"
     ]
    }
   ],
   "source": [
    "import pandas as pd\n",
    "\n",
    "df = pd.read_csv('train.csv')\n",
    "\n",
    "df.info()"
   ]
  },
  {
   "cell_type": "markdown",
   "metadata": {},
   "source": [
    "## 1. sex dummies"
   ]
  },
  {
   "cell_type": "code",
   "execution_count": 2,
   "metadata": {
    "collapsed": false
   },
   "outputs": [
    {
     "name": "stdout",
     "output_type": "stream",
     "text": [
      "<class 'pandas.core.frame.DataFrame'>\n",
      "RangeIndex: 891 entries, 0 to 890\n",
      "Data columns (total 14 columns):\n",
      "PassengerId    891 non-null int64\n",
      "Survived       891 non-null int64\n",
      "Pclass         891 non-null int64\n",
      "Name           891 non-null object\n",
      "Sex            891 non-null object\n",
      "Age            714 non-null float64\n",
      "SibSp          891 non-null int64\n",
      "Parch          891 non-null int64\n",
      "Ticket         891 non-null object\n",
      "Fare           891 non-null float64\n",
      "Cabin          204 non-null object\n",
      "Embarked       889 non-null object\n",
      "Sex_female     891 non-null uint8\n",
      "Sex_male       891 non-null uint8\n",
      "dtypes: float64(2), int64(5), object(5), uint8(2)\n",
      "memory usage: 85.3+ KB\n"
     ]
    }
   ],
   "source": [
    "sex_dummies = pd.get_dummies(df.Sex, prefix='Sex')\n",
    "\n",
    "df = pd.concat([df, sex_dummies], axis=1)\n",
    "\n",
    "df.info()\n",
    "\n",
    "df.to_csv('train_1_sex_dummies.csv')"
   ]
  },
  {
   "cell_type": "markdown",
   "metadata": {},
   "source": [
    "## 2. cabin dummies"
   ]
  },
  {
   "cell_type": "code",
   "execution_count": 3,
   "metadata": {
    "collapsed": false
   },
   "outputs": [
    {
     "name": "stdout",
     "output_type": "stream",
     "text": [
      "<class 'pandas.core.frame.DataFrame'>\n",
      "RangeIndex: 891 entries, 0 to 890\n",
      "Data columns (total 16 columns):\n",
      "PassengerId      891 non-null int64\n",
      "Survived         891 non-null int64\n",
      "Pclass           891 non-null int64\n",
      "Name             891 non-null object\n",
      "Sex              891 non-null object\n",
      "Age              714 non-null float64\n",
      "SibSp            891 non-null int64\n",
      "Parch            891 non-null int64\n",
      "Ticket           891 non-null object\n",
      "Fare             891 non-null float64\n",
      "Cabin            891 non-null object\n",
      "Embarked         889 non-null object\n",
      "Sex_female       891 non-null uint8\n",
      "Sex_male         891 non-null uint8\n",
      "Cabin_notnull    891 non-null uint8\n",
      "Cabin_null       891 non-null uint8\n",
      "dtypes: float64(2), int64(5), object(5), uint8(4)\n",
      "memory usage: 87.1+ KB\n"
     ]
    },
    {
     "name": "stderr",
     "output_type": "stream",
     "text": [
      "D:\\Anaconda2\\lib\\site-packages\\pandas\\core\\indexing.py:141: SettingWithCopyWarning: \n",
      "A value is trying to be set on a copy of a slice from a DataFrame\n",
      "\n",
      "See the caveats in the documentation: http://pandas.pydata.org/pandas-docs/stable/indexing.html#indexing-view-versus-copy\n",
      "  self._setitem_with_indexer(indexer, value)\n"
     ]
    }
   ],
   "source": [
    "df.Cabin.loc[df.Cabin.notnull()] = 'notnull'\n",
    "\n",
    "df.Cabin.loc[df.Cabin.isnull()] = 'null'\n",
    "\n",
    "cabin_dummies = pd.get_dummies(df.Cabin, prefix='Cabin')\n",
    "\n",
    "df = pd.concat([df, cabin_dummies], axis=1)\n",
    "\n",
    "df.info()\n",
    "\n",
    "df.to_csv('train_2_cabin_dummies.csv')"
   ]
  },
  {
   "cell_type": "markdown",
   "metadata": {},
   "source": [
    "## 3. pclass dummies"
   ]
  },
  {
   "cell_type": "code",
   "execution_count": 4,
   "metadata": {
    "collapsed": false
   },
   "outputs": [
    {
     "name": "stdout",
     "output_type": "stream",
     "text": [
      "<class 'pandas.core.frame.DataFrame'>\n",
      "RangeIndex: 891 entries, 0 to 890\n",
      "Data columns (total 19 columns):\n",
      "PassengerId      891 non-null int64\n",
      "Survived         891 non-null int64\n",
      "Pclass           891 non-null int64\n",
      "Name             891 non-null object\n",
      "Sex              891 non-null object\n",
      "Age              714 non-null float64\n",
      "SibSp            891 non-null int64\n",
      "Parch            891 non-null int64\n",
      "Ticket           891 non-null object\n",
      "Fare             891 non-null float64\n",
      "Cabin            891 non-null object\n",
      "Embarked         889 non-null object\n",
      "Sex_female       891 non-null uint8\n",
      "Sex_male         891 non-null uint8\n",
      "Cabin_notnull    891 non-null uint8\n",
      "Cabin_null       891 non-null uint8\n",
      "Pclass_1         891 non-null uint8\n",
      "Pclass_2         891 non-null uint8\n",
      "Pclass_3         891 non-null uint8\n",
      "dtypes: float64(2), int64(5), object(5), uint8(7)\n",
      "memory usage: 89.7+ KB\n"
     ]
    }
   ],
   "source": [
    "pclass_dummies = pd.get_dummies(df.Pclass, prefix='Pclass')\n",
    "\n",
    "\n",
    "df = pd.concat([df, pclass_dummies], axis=1)\n",
    "\n",
    "df.info()\n",
    "\n",
    "df.to_csv('train_3_pclass_dummies.csv')"
   ]
  },
  {
   "cell_type": "markdown",
   "metadata": {},
   "source": [
    "## 4. embarked dummies"
   ]
  },
  {
   "cell_type": "code",
   "execution_count": 5,
   "metadata": {
    "collapsed": false
   },
   "outputs": [
    {
     "name": "stdout",
     "output_type": "stream",
     "text": [
      "<class 'pandas.core.frame.DataFrame'>\n",
      "RangeIndex: 891 entries, 0 to 890\n",
      "Data columns (total 22 columns):\n",
      "PassengerId      891 non-null int64\n",
      "Survived         891 non-null int64\n",
      "Pclass           891 non-null int64\n",
      "Name             891 non-null object\n",
      "Sex              891 non-null object\n",
      "Age              714 non-null float64\n",
      "SibSp            891 non-null int64\n",
      "Parch            891 non-null int64\n",
      "Ticket           891 non-null object\n",
      "Fare             891 non-null float64\n",
      "Cabin            891 non-null object\n",
      "Embarked         889 non-null object\n",
      "Sex_female       891 non-null uint8\n",
      "Sex_male         891 non-null uint8\n",
      "Cabin_notnull    891 non-null uint8\n",
      "Cabin_null       891 non-null uint8\n",
      "Pclass_1         891 non-null uint8\n",
      "Pclass_2         891 non-null uint8\n",
      "Pclass_3         891 non-null uint8\n",
      "Embarked_C       891 non-null uint8\n",
      "Embarked_Q       891 non-null uint8\n",
      "Embarked_S       891 non-null uint8\n",
      "dtypes: float64(2), int64(5), object(5), uint8(10)\n",
      "memory usage: 92.3+ KB\n"
     ]
    }
   ],
   "source": [
    "embarked_dummies = pd.get_dummies(df.Embarked, prefix='Embarked')\n",
    "\n",
    "df = pd.concat([df, embarked_dummies], axis=1)\n",
    "\n",
    "df.info()\n",
    "\n",
    "df.to_csv('train_4_embarked_dummies.csv')"
   ]
  },
  {
   "cell_type": "markdown",
   "metadata": {},
   "source": [
    "## 5. add mean age and mean fare"
   ]
  },
  {
   "cell_type": "code",
   "execution_count": 6,
   "metadata": {
    "collapsed": false
   },
   "outputs": [
    {
     "name": "stdout",
     "output_type": "stream",
     "text": [
      "<class 'pandas.core.frame.DataFrame'>\n",
      "RangeIndex: 891 entries, 0 to 890\n",
      "Data columns (total 22 columns):\n",
      "PassengerId      891 non-null int64\n",
      "Survived         891 non-null int64\n",
      "Pclass           891 non-null int64\n",
      "Name             891 non-null object\n",
      "Sex              891 non-null object\n",
      "Age              891 non-null float64\n",
      "SibSp            891 non-null int64\n",
      "Parch            891 non-null int64\n",
      "Ticket           891 non-null object\n",
      "Fare             891 non-null float64\n",
      "Cabin            891 non-null object\n",
      "Embarked         889 non-null object\n",
      "Sex_female       891 non-null uint8\n",
      "Sex_male         891 non-null uint8\n",
      "Cabin_notnull    891 non-null uint8\n",
      "Cabin_null       891 non-null uint8\n",
      "Pclass_1         891 non-null uint8\n",
      "Pclass_2         891 non-null uint8\n",
      "Pclass_3         891 non-null uint8\n",
      "Embarked_C       891 non-null uint8\n",
      "Embarked_Q       891 non-null uint8\n",
      "Embarked_S       891 non-null uint8\n",
      "dtypes: float64(2), int64(5), object(5), uint8(10)\n",
      "memory usage: 92.3+ KB\n"
     ]
    }
   ],
   "source": [
    "df.Age.loc[df.Age.isnull()] = df.Age.mean()\n",
    "df.Fare.loc[df.Fare.isnull()] = df.Fare.mean()\n",
    "    \n",
    "df.info()\n",
    "\n",
    "df.to_csv('train_5_add_mean_age.csv')"
   ]
  },
  {
   "cell_type": "markdown",
   "metadata": {},
   "source": [
    "## 6. scale age and fare"
   ]
  },
  {
   "cell_type": "code",
   "execution_count": 7,
   "metadata": {
    "collapsed": false
   },
   "outputs": [
    {
     "name": "stdout",
     "output_type": "stream",
     "text": [
      "<class 'pandas.core.frame.DataFrame'>\n",
      "RangeIndex: 891 entries, 0 to 890\n",
      "Data columns (total 24 columns):\n",
      "PassengerId      891 non-null int64\n",
      "Survived         891 non-null int64\n",
      "Pclass           891 non-null int64\n",
      "Name             891 non-null object\n",
      "Sex              891 non-null object\n",
      "Age              891 non-null float64\n",
      "SibSp            891 non-null int64\n",
      "Parch            891 non-null int64\n",
      "Ticket           891 non-null object\n",
      "Fare             891 non-null float64\n",
      "Cabin            891 non-null object\n",
      "Embarked         889 non-null object\n",
      "Sex_female       891 non-null uint8\n",
      "Sex_male         891 non-null uint8\n",
      "Cabin_notnull    891 non-null uint8\n",
      "Cabin_null       891 non-null uint8\n",
      "Pclass_1         891 non-null uint8\n",
      "Pclass_2         891 non-null uint8\n",
      "Pclass_3         891 non-null uint8\n",
      "Embarked_C       891 non-null uint8\n",
      "Embarked_Q       891 non-null uint8\n",
      "Embarked_S       891 non-null uint8\n",
      "Age_scale        891 non-null float64\n",
      "Fare_scale       891 non-null float64\n",
      "dtypes: float64(4), int64(5), object(5), uint8(10)\n",
      "memory usage: 106.2+ KB\n"
     ]
    },
    {
     "name": "stderr",
     "output_type": "stream",
     "text": [
      "D:\\Anaconda2\\lib\\site-packages\\sklearn\\preprocessing\\data.py:586: DeprecationWarning: Passing 1d arrays as data is deprecated in 0.17 and will raise ValueError in 0.19. Reshape your data either using X.reshape(-1, 1) if your data has a single feature or X.reshape(1, -1) if it contains a single sample.\n",
      "  warnings.warn(DEPRECATION_MSG_1D, DeprecationWarning)\n",
      "D:\\Anaconda2\\lib\\site-packages\\sklearn\\preprocessing\\data.py:586: DeprecationWarning: Passing 1d arrays as data is deprecated in 0.17 and will raise ValueError in 0.19. Reshape your data either using X.reshape(-1, 1) if your data has a single feature or X.reshape(1, -1) if it contains a single sample.\n",
      "  warnings.warn(DEPRECATION_MSG_1D, DeprecationWarning)\n",
      "D:\\Anaconda2\\lib\\site-packages\\sklearn\\preprocessing\\data.py:649: DeprecationWarning: Passing 1d arrays as data is deprecated in 0.17 and will raise ValueError in 0.19. Reshape your data either using X.reshape(-1, 1) if your data has a single feature or X.reshape(1, -1) if it contains a single sample.\n",
      "  warnings.warn(DEPRECATION_MSG_1D, DeprecationWarning)\n",
      "D:\\Anaconda2\\lib\\site-packages\\sklearn\\preprocessing\\data.py:586: DeprecationWarning: Passing 1d arrays as data is deprecated in 0.17 and will raise ValueError in 0.19. Reshape your data either using X.reshape(-1, 1) if your data has a single feature or X.reshape(1, -1) if it contains a single sample.\n",
      "  warnings.warn(DEPRECATION_MSG_1D, DeprecationWarning)\n",
      "D:\\Anaconda2\\lib\\site-packages\\sklearn\\preprocessing\\data.py:586: DeprecationWarning: Passing 1d arrays as data is deprecated in 0.17 and will raise ValueError in 0.19. Reshape your data either using X.reshape(-1, 1) if your data has a single feature or X.reshape(1, -1) if it contains a single sample.\n",
      "  warnings.warn(DEPRECATION_MSG_1D, DeprecationWarning)\n",
      "D:\\Anaconda2\\lib\\site-packages\\sklearn\\preprocessing\\data.py:649: DeprecationWarning: Passing 1d arrays as data is deprecated in 0.17 and will raise ValueError in 0.19. Reshape your data either using X.reshape(-1, 1) if your data has a single feature or X.reshape(1, -1) if it contains a single sample.\n",
      "  warnings.warn(DEPRECATION_MSG_1D, DeprecationWarning)\n"
     ]
    }
   ],
   "source": [
    "import sklearn.preprocessing as preprocessing\n",
    "\n",
    "scaler = preprocessing.StandardScaler()\n",
    "\n",
    "age_scale_param = scaler.fit(df.Age)\n",
    "\n",
    "df['Age_scale'] = scaler.fit_transform(df.Age, age_scale_param)\n",
    "\n",
    "fare_scale_param = scaler.fit(df.Fare)\n",
    "\n",
    "df['Fare_scale'] = scaler.fit_transform(df.Fare, fare_scale_param)\n",
    "\n",
    "df.info()\n",
    "\n",
    "df.to_csv('train_6_age_scale_fare_scale.csv')"
   ]
  },
  {
   "cell_type": "markdown",
   "metadata": {
    "collapsed": true
   },
   "source": [
    "## get train data after preprocess"
   ]
  },
  {
   "cell_type": "code",
   "execution_count": 11,
   "metadata": {
    "collapsed": false
   },
   "outputs": [
    {
     "name": "stderr",
     "output_type": "stream",
     "text": [
      "D:\\Anaconda2\\lib\\site-packages\\sklearn\\preprocessing\\data.py:586: DeprecationWarning: Passing 1d arrays as data is deprecated in 0.17 and will raise ValueError in 0.19. Reshape your data either using X.reshape(-1, 1) if your data has a single feature or X.reshape(1, -1) if it contains a single sample.\n",
      "  warnings.warn(DEPRECATION_MSG_1D, DeprecationWarning)\n",
      "D:\\Anaconda2\\lib\\site-packages\\sklearn\\preprocessing\\data.py:586: DeprecationWarning: Passing 1d arrays as data is deprecated in 0.17 and will raise ValueError in 0.19. Reshape your data either using X.reshape(-1, 1) if your data has a single feature or X.reshape(1, -1) if it contains a single sample.\n",
      "  warnings.warn(DEPRECATION_MSG_1D, DeprecationWarning)\n",
      "D:\\Anaconda2\\lib\\site-packages\\sklearn\\preprocessing\\data.py:586: DeprecationWarning: Passing 1d arrays as data is deprecated in 0.17 and will raise ValueError in 0.19. Reshape your data either using X.reshape(-1, 1) if your data has a single feature or X.reshape(1, -1) if it contains a single sample.\n",
      "  warnings.warn(DEPRECATION_MSG_1D, DeprecationWarning)\n",
      "D:\\Anaconda2\\lib\\site-packages\\sklearn\\preprocessing\\data.py:649: DeprecationWarning: Passing 1d arrays as data is deprecated in 0.17 and will raise ValueError in 0.19. Reshape your data either using X.reshape(-1, 1) if your data has a single feature or X.reshape(1, -1) if it contains a single sample.\n",
      "  warnings.warn(DEPRECATION_MSG_1D, DeprecationWarning)\n",
      "D:\\Anaconda2\\lib\\site-packages\\sklearn\\preprocessing\\data.py:586: DeprecationWarning: Passing 1d arrays as data is deprecated in 0.17 and will raise ValueError in 0.19. Reshape your data either using X.reshape(-1, 1) if your data has a single feature or X.reshape(1, -1) if it contains a single sample.\n",
      "  warnings.warn(DEPRECATION_MSG_1D, DeprecationWarning)\n",
      "D:\\Anaconda2\\lib\\site-packages\\sklearn\\preprocessing\\data.py:649: DeprecationWarning: Passing 1d arrays as data is deprecated in 0.17 and will raise ValueError in 0.19. Reshape your data either using X.reshape(-1, 1) if your data has a single feature or X.reshape(1, -1) if it contains a single sample.\n",
      "  warnings.warn(DEPRECATION_MSG_1D, DeprecationWarning)\n"
     ]
    }
   ],
   "source": [
    "import preprocess_data as prepro\n",
    "x_train, y_train, scale_param =  prepro.get_train_data('train.csv')"
   ]
  },
  {
   "cell_type": "markdown",
   "metadata": {},
   "source": [
    "## Logistic Regression model"
   ]
  },
  {
   "cell_type": "code",
   "execution_count": 13,
   "metadata": {
    "collapsed": false
   },
   "outputs": [
    {
     "data": {
      "text/plain": [
       "LogisticRegression(C=1.0, class_weight=None, dual=False, fit_intercept=True,\n",
       "          intercept_scaling=1, max_iter=100, multi_class='ovr', n_jobs=1,\n",
       "          penalty='l2', random_state=None, solver='liblinear', tol=1e-06,\n",
       "          verbose=0, warm_start=False)"
      ]
     },
     "execution_count": 13,
     "metadata": {},
     "output_type": "execute_result"
    }
   ],
   "source": [
    "from sklearn import linear_model\n",
    "\n",
    "lr = linear_model.LogisticRegression(tol=1e-6)\n",
    "\n",
    "lr.fit(x_train, y_train)"
   ]
  },
  {
   "cell_type": "markdown",
   "metadata": {},
   "source": [
    "## predict in test dataset"
   ]
  },
  {
   "cell_type": "code",
   "execution_count": 15,
   "metadata": {
    "collapsed": false
   },
   "outputs": [
    {
     "name": "stdout",
     "output_type": "stream",
     "text": [
      "<class 'pandas.core.frame.DataFrame'>\n",
      "RangeIndex: 418 entries, 0 to 417\n",
      "Data columns (total 14 columns):\n",
      "SibSp            418 non-null int64\n",
      "Parch            418 non-null int64\n",
      "Sex_female       418 non-null uint8\n",
      "Sex_male         418 non-null uint8\n",
      "Cabin_notnull    418 non-null uint8\n",
      "Cabin_null       418 non-null uint8\n",
      "Pclass_1         418 non-null uint8\n",
      "Pclass_2         418 non-null uint8\n",
      "Pclass_3         418 non-null uint8\n",
      "Embarked_C       418 non-null uint8\n",
      "Embarked_Q       418 non-null uint8\n",
      "Embarked_S       418 non-null uint8\n",
      "Age_scale        418 non-null float64\n",
      "Fare_scale       418 non-null float64\n",
      "dtypes: float64(2), int64(2), uint8(10)\n",
      "memory usage: 17.2 KB\n"
     ]
    },
    {
     "name": "stderr",
     "output_type": "stream",
     "text": [
      "D:\\Anaconda2\\lib\\site-packages\\sklearn\\preprocessing\\data.py:586: DeprecationWarning: Passing 1d arrays as data is deprecated in 0.17 and will raise ValueError in 0.19. Reshape your data either using X.reshape(-1, 1) if your data has a single feature or X.reshape(1, -1) if it contains a single sample.\n",
      "  warnings.warn(DEPRECATION_MSG_1D, DeprecationWarning)\n",
      "D:\\Anaconda2\\lib\\site-packages\\sklearn\\preprocessing\\data.py:649: DeprecationWarning: Passing 1d arrays as data is deprecated in 0.17 and will raise ValueError in 0.19. Reshape your data either using X.reshape(-1, 1) if your data has a single feature or X.reshape(1, -1) if it contains a single sample.\n",
      "  warnings.warn(DEPRECATION_MSG_1D, DeprecationWarning)\n",
      "D:\\Anaconda2\\lib\\site-packages\\sklearn\\preprocessing\\data.py:586: DeprecationWarning: Passing 1d arrays as data is deprecated in 0.17 and will raise ValueError in 0.19. Reshape your data either using X.reshape(-1, 1) if your data has a single feature or X.reshape(1, -1) if it contains a single sample.\n",
      "  warnings.warn(DEPRECATION_MSG_1D, DeprecationWarning)\n",
      "D:\\Anaconda2\\lib\\site-packages\\sklearn\\preprocessing\\data.py:649: DeprecationWarning: Passing 1d arrays as data is deprecated in 0.17 and will raise ValueError in 0.19. Reshape your data either using X.reshape(-1, 1) if your data has a single feature or X.reshape(1, -1) if it contains a single sample.\n",
      "  warnings.warn(DEPRECATION_MSG_1D, DeprecationWarning)\n"
     ]
    }
   ],
   "source": [
    "x_test = prepro.get_test_data('test.csv', scale_param)\n",
    "\n",
    "prediction = lr.predict(x_test)\n",
    "\n",
    "test_df = pd.read_csv('test.csv')\n",
    "\n",
    "result = pd.DataFrame({'PassengerID':test_df.PassengerId.as_matrix(), 'Survived':prediction})\n",
    "\n",
    "result.to_csv('lr_prediction.csv')"
   ]
  },
  {
   "cell_type": "code",
   "execution_count": null,
   "metadata": {
    "collapsed": true
   },
   "outputs": [],
   "source": [
    "first submission: 0.75598"
   ]
  }
 ],
 "metadata": {
  "kernelspec": {
   "display_name": "Python 2",
   "language": "python",
   "name": "python2"
  },
  "language_info": {
   "codemirror_mode": {
    "name": "ipython",
    "version": 2
   },
   "file_extension": ".py",
   "mimetype": "text/x-python",
   "name": "python",
   "nbconvert_exporter": "python",
   "pygments_lexer": "ipython2",
   "version": "2.7.13"
  }
 },
 "nbformat": 4,
 "nbformat_minor": 0
}
